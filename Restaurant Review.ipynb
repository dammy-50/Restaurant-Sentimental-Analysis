{
 "cells": [
  {
   "cell_type": "markdown",
   "id": "7aab7cfd-da93-4f0e-9669-ba26be697964",
   "metadata": {},
   "source": [
    "# Restaurant Review Sentimental Analysis."
   ]
  },
  {
   "cell_type": "code",
   "execution_count": 1,
   "id": "3666112a-4b22-4d28-9f1b-cba4c41cbade",
   "metadata": {},
   "outputs": [],
   "source": [
    "import pandas as pd\n",
    "import numpy as np\n",
    "import seaborn as sns\n",
    "import matplotlib.pyplot as plt\n",
    "import warnings"
   ]
  },
  {
   "cell_type": "code",
   "execution_count": 2,
   "id": "2a240dff-3d05-43db-982a-5b8deec56cd3",
   "metadata": {},
   "outputs": [],
   "source": [
    "warnings.filterwarnings('ignore')"
   ]
  },
  {
   "cell_type": "code",
   "execution_count": 3,
   "id": "dca07375-533f-4afe-af0a-0a7d16e8cf04",
   "metadata": {},
   "outputs": [
    {
     "data": {
      "text/html": [
       "<div>\n",
       "<style scoped>\n",
       "    .dataframe tbody tr th:only-of-type {\n",
       "        vertical-align: middle;\n",
       "    }\n",
       "\n",
       "    .dataframe tbody tr th {\n",
       "        vertical-align: top;\n",
       "    }\n",
       "\n",
       "    .dataframe thead th {\n",
       "        text-align: right;\n",
       "    }\n",
       "</style>\n",
       "<table border=\"1\" class=\"dataframe\">\n",
       "  <thead>\n",
       "    <tr style=\"text-align: right;\">\n",
       "      <th></th>\n",
       "      <th>Review</th>\n",
       "      <th>Liked</th>\n",
       "    </tr>\n",
       "  </thead>\n",
       "  <tbody>\n",
       "    <tr>\n",
       "      <th>0</th>\n",
       "      <td>Wow... Loved this place.</td>\n",
       "      <td>1</td>\n",
       "    </tr>\n",
       "    <tr>\n",
       "      <th>1</th>\n",
       "      <td>Crust is not good.</td>\n",
       "      <td>0</td>\n",
       "    </tr>\n",
       "    <tr>\n",
       "      <th>2</th>\n",
       "      <td>Not tasty and the texture was just nasty.</td>\n",
       "      <td>0</td>\n",
       "    </tr>\n",
       "    <tr>\n",
       "      <th>3</th>\n",
       "      <td>Stopped by during the late May bank holiday of...</td>\n",
       "      <td>1</td>\n",
       "    </tr>\n",
       "    <tr>\n",
       "      <th>4</th>\n",
       "      <td>The selection on the menu was great and so wer...</td>\n",
       "      <td>1</td>\n",
       "    </tr>\n",
       "    <tr>\n",
       "      <th>...</th>\n",
       "      <td>...</td>\n",
       "      <td>...</td>\n",
       "    </tr>\n",
       "    <tr>\n",
       "      <th>995</th>\n",
       "      <td>I think food should have flavor and texture an...</td>\n",
       "      <td>0</td>\n",
       "    </tr>\n",
       "    <tr>\n",
       "      <th>996</th>\n",
       "      <td>Appetite instantly gone.</td>\n",
       "      <td>0</td>\n",
       "    </tr>\n",
       "    <tr>\n",
       "      <th>997</th>\n",
       "      <td>Overall I was not impressed and would not go b...</td>\n",
       "      <td>0</td>\n",
       "    </tr>\n",
       "    <tr>\n",
       "      <th>998</th>\n",
       "      <td>The whole experience was underwhelming, and I ...</td>\n",
       "      <td>0</td>\n",
       "    </tr>\n",
       "    <tr>\n",
       "      <th>999</th>\n",
       "      <td>Then, as if I hadn't wasted enough of my life ...</td>\n",
       "      <td>0</td>\n",
       "    </tr>\n",
       "  </tbody>\n",
       "</table>\n",
       "<p>1000 rows × 2 columns</p>\n",
       "</div>"
      ],
      "text/plain": [
       "                                                Review  Liked\n",
       "0                             Wow... Loved this place.      1\n",
       "1                                   Crust is not good.      0\n",
       "2            Not tasty and the texture was just nasty.      0\n",
       "3    Stopped by during the late May bank holiday of...      1\n",
       "4    The selection on the menu was great and so wer...      1\n",
       "..                                                 ...    ...\n",
       "995  I think food should have flavor and texture an...      0\n",
       "996                           Appetite instantly gone.      0\n",
       "997  Overall I was not impressed and would not go b...      0\n",
       "998  The whole experience was underwhelming, and I ...      0\n",
       "999  Then, as if I hadn't wasted enough of my life ...      0\n",
       "\n",
       "[1000 rows x 2 columns]"
      ]
     },
     "execution_count": 3,
     "metadata": {},
     "output_type": "execute_result"
    }
   ],
   "source": [
    "data=pd.read_csv(r\"C:\\Users\\DAMMY\\Desktop\\datasets\\Restaurant_Reviews.tsv\",sep='\\t')\n",
    "data"
   ]
  },
  {
   "cell_type": "code",
   "execution_count": 4,
   "id": "ba038c67-41a3-4290-980f-75f13537ee38",
   "metadata": {},
   "outputs": [],
   "source": [
    "data['char_count']=data['Review'].apply(len)"
   ]
  },
  {
   "cell_type": "code",
   "execution_count": 5,
   "id": "51debe6f-f29d-477e-af62-abb0d526a74f",
   "metadata": {},
   "outputs": [],
   "source": [
    "data['word_count']=data['Review'].apply(lambda x :len(str(x).split()))"
   ]
  },
  {
   "cell_type": "code",
   "execution_count": 6,
   "id": "9689f3eb-0727-4557-a907-7c0cfda84b08",
   "metadata": {},
   "outputs": [],
   "source": [
    "import nltk"
   ]
  },
  {
   "cell_type": "code",
   "execution_count": 7,
   "id": "eac35cd0-fa82-4eb9-8bd2-b0c4d57ea8fb",
   "metadata": {},
   "outputs": [
    {
     "name": "stderr",
     "output_type": "stream",
     "text": [
      "[nltk_data] Downloading package punkt to\n",
      "[nltk_data]     C:\\Users\\DAMMY\\AppData\\Roaming\\nltk_data...\n",
      "[nltk_data]   Package punkt is already up-to-date!\n"
     ]
    },
    {
     "data": {
      "text/plain": [
       "True"
      ]
     },
     "execution_count": 7,
     "metadata": {},
     "output_type": "execute_result"
    }
   ],
   "source": [
    "nltk.download('punkt')"
   ]
  },
  {
   "cell_type": "code",
   "execution_count": 8,
   "id": "10355f4e-7914-4bf8-abe8-e9b05c1950c1",
   "metadata": {},
   "outputs": [],
   "source": [
    "data['sent_count']=data['Review'].apply(lambda x : len(nltk.sent_tokenize(str(x))))"
   ]
  },
  {
   "cell_type": "code",
   "execution_count": 9,
   "id": "d93ffc6f-1971-40e3-9947-4fcf5e4052ad",
   "metadata": {},
   "outputs": [
    {
     "data": {
      "text/plain": [
       "55.88"
      ]
     },
     "execution_count": 9,
     "metadata": {},
     "output_type": "execute_result"
    }
   ],
   "source": [
    "data[data['Liked']==1]['char_count'].mean()"
   ]
  },
  {
   "cell_type": "code",
   "execution_count": 10,
   "id": "77539ce1-e067-4580-8d2f-e16229a26a27",
   "metadata": {},
   "outputs": [
    {
     "data": {
      "text/plain": [
       "60.75"
      ]
     },
     "execution_count": 10,
     "metadata": {},
     "output_type": "execute_result"
    }
   ],
   "source": [
    "data[data['Liked']==0]['char_count'].mean()"
   ]
  },
  {
   "cell_type": "code",
   "execution_count": 11,
   "id": "111f3b89-13ad-48af-aa8a-bd621aeab89c",
   "metadata": {},
   "outputs": [],
   "source": [
    "import re"
   ]
  },
  {
   "cell_type": "code",
   "execution_count": 12,
   "id": "f4124915-caf5-4df0-b308-76a65b4bf6e3",
   "metadata": {},
   "outputs": [
    {
     "data": {
      "text/plain": [
       "'Crust is not good.'"
      ]
     },
     "execution_count": 12,
     "metadata": {},
     "output_type": "execute_result"
    }
   ],
   "source": [
    "data['Review'][1]"
   ]
  },
  {
   "cell_type": "code",
   "execution_count": 13,
   "id": "c9bd1e27-04d6-4ec9-b867-8f556f4a6ad6",
   "metadata": {},
   "outputs": [],
   "source": [
    "review = re.sub('[^a-zA-Z]',' ',data['Review'][1])"
   ]
  },
  {
   "cell_type": "code",
   "execution_count": 14,
   "id": "4400a5d1-b57f-4f8b-8d15-866efae10099",
   "metadata": {},
   "outputs": [
    {
     "data": {
      "text/plain": [
       "'Crust is not good '"
      ]
     },
     "execution_count": 14,
     "metadata": {},
     "output_type": "execute_result"
    }
   ],
   "source": [
    "review"
   ]
  },
  {
   "cell_type": "code",
   "execution_count": 15,
   "id": "e53c009a-c557-401c-a523-45da9b63a319",
   "metadata": {},
   "outputs": [],
   "source": [
    "review = review.lower()"
   ]
  },
  {
   "cell_type": "code",
   "execution_count": 16,
   "id": "204545a4-7c52-445f-8bf0-08345de8a271",
   "metadata": {},
   "outputs": [
    {
     "data": {
      "text/plain": [
       "'crust is not good '"
      ]
     },
     "execution_count": 16,
     "metadata": {},
     "output_type": "execute_result"
    }
   ],
   "source": [
    "review"
   ]
  },
  {
   "cell_type": "code",
   "execution_count": 17,
   "id": "9c5a1f8b-e073-43d5-8101-b0a1ed3ddd35",
   "metadata": {},
   "outputs": [
    {
     "data": {
      "text/plain": [
       "['crust', 'is', 'not', 'good']"
      ]
     },
     "execution_count": 17,
     "metadata": {},
     "output_type": "execute_result"
    }
   ],
   "source": [
    "review = review.split()\n",
    "review"
   ]
  },
  {
   "cell_type": "code",
   "execution_count": 18,
   "id": "531ee750-4ace-4668-9a99-de9694a6258a",
   "metadata": {},
   "outputs": [],
   "source": [
    "from nltk.corpus import stopwords"
   ]
  },
  {
   "cell_type": "code",
   "execution_count": 19,
   "id": "d0cc9c21-693c-4479-9d87-2d47a801447b",
   "metadata": {},
   "outputs": [],
   "source": [
    "all_stopwords = stopwords.words(\"english\")\n",
    "all_stopwords.remove('not')"
   ]
  },
  {
   "cell_type": "code",
   "execution_count": 20,
   "id": "3e5c9cac-5d76-409e-baae-8a3bacf0cd0f",
   "metadata": {},
   "outputs": [
    {
     "data": {
      "text/plain": [
       "['i',\n",
       " 'me',\n",
       " 'my',\n",
       " 'myself',\n",
       " 'we',\n",
       " 'our',\n",
       " 'ours',\n",
       " 'ourselves',\n",
       " 'you',\n",
       " \"you're\",\n",
       " \"you've\",\n",
       " \"you'll\",\n",
       " \"you'd\",\n",
       " 'your',\n",
       " 'yours',\n",
       " 'yourself',\n",
       " 'yourselves',\n",
       " 'he',\n",
       " 'him',\n",
       " 'his',\n",
       " 'himself',\n",
       " 'she',\n",
       " \"she's\",\n",
       " 'her',\n",
       " 'hers',\n",
       " 'herself',\n",
       " 'it',\n",
       " \"it's\",\n",
       " 'its',\n",
       " 'itself',\n",
       " 'they',\n",
       " 'them',\n",
       " 'their',\n",
       " 'theirs',\n",
       " 'themselves',\n",
       " 'what',\n",
       " 'which',\n",
       " 'who',\n",
       " 'whom',\n",
       " 'this',\n",
       " 'that',\n",
       " \"that'll\",\n",
       " 'these',\n",
       " 'those',\n",
       " 'am',\n",
       " 'is',\n",
       " 'are',\n",
       " 'was',\n",
       " 'were',\n",
       " 'be',\n",
       " 'been',\n",
       " 'being',\n",
       " 'have',\n",
       " 'has',\n",
       " 'had',\n",
       " 'having',\n",
       " 'do',\n",
       " 'does',\n",
       " 'did',\n",
       " 'doing',\n",
       " 'a',\n",
       " 'an',\n",
       " 'the',\n",
       " 'and',\n",
       " 'but',\n",
       " 'if',\n",
       " 'or',\n",
       " 'because',\n",
       " 'as',\n",
       " 'until',\n",
       " 'while',\n",
       " 'of',\n",
       " 'at',\n",
       " 'by',\n",
       " 'for',\n",
       " 'with',\n",
       " 'about',\n",
       " 'against',\n",
       " 'between',\n",
       " 'into',\n",
       " 'through',\n",
       " 'during',\n",
       " 'before',\n",
       " 'after',\n",
       " 'above',\n",
       " 'below',\n",
       " 'to',\n",
       " 'from',\n",
       " 'up',\n",
       " 'down',\n",
       " 'in',\n",
       " 'out',\n",
       " 'on',\n",
       " 'off',\n",
       " 'over',\n",
       " 'under',\n",
       " 'again',\n",
       " 'further',\n",
       " 'then',\n",
       " 'once',\n",
       " 'here',\n",
       " 'there',\n",
       " 'when',\n",
       " 'where',\n",
       " 'why',\n",
       " 'how',\n",
       " 'all',\n",
       " 'any',\n",
       " 'both',\n",
       " 'each',\n",
       " 'few',\n",
       " 'more',\n",
       " 'most',\n",
       " 'other',\n",
       " 'some',\n",
       " 'such',\n",
       " 'no',\n",
       " 'nor',\n",
       " 'only',\n",
       " 'own',\n",
       " 'same',\n",
       " 'so',\n",
       " 'than',\n",
       " 'too',\n",
       " 'very',\n",
       " 's',\n",
       " 't',\n",
       " 'can',\n",
       " 'will',\n",
       " 'just',\n",
       " 'don',\n",
       " \"don't\",\n",
       " 'should',\n",
       " \"should've\",\n",
       " 'now',\n",
       " 'd',\n",
       " 'll',\n",
       " 'm',\n",
       " 'o',\n",
       " 're',\n",
       " 've',\n",
       " 'y',\n",
       " 'ain',\n",
       " 'aren',\n",
       " \"aren't\",\n",
       " 'couldn',\n",
       " \"couldn't\",\n",
       " 'didn',\n",
       " \"didn't\",\n",
       " 'doesn',\n",
       " \"doesn't\",\n",
       " 'hadn',\n",
       " \"hadn't\",\n",
       " 'hasn',\n",
       " \"hasn't\",\n",
       " 'haven',\n",
       " \"haven't\",\n",
       " 'isn',\n",
       " \"isn't\",\n",
       " 'ma',\n",
       " 'mightn',\n",
       " \"mightn't\",\n",
       " 'mustn',\n",
       " \"mustn't\",\n",
       " 'needn',\n",
       " \"needn't\",\n",
       " 'shan',\n",
       " \"shan't\",\n",
       " 'shouldn',\n",
       " \"shouldn't\",\n",
       " 'wasn',\n",
       " \"wasn't\",\n",
       " 'weren',\n",
       " \"weren't\",\n",
       " 'won',\n",
       " \"won't\",\n",
       " 'wouldn',\n",
       " \"wouldn't\"]"
      ]
     },
     "execution_count": 20,
     "metadata": {},
     "output_type": "execute_result"
    }
   ],
   "source": [
    "all_stopwords"
   ]
  },
  {
   "cell_type": "code",
   "execution_count": 21,
   "id": "bcd78a21-3843-41ac-a60c-5020b675a82a",
   "metadata": {},
   "outputs": [
    {
     "data": {
      "text/plain": [
       "['crust', 'not', 'good']"
      ]
     },
     "execution_count": 21,
     "metadata": {},
     "output_type": "execute_result"
    }
   ],
   "source": [
    "review = [word for word in review if word not in set(all_stopwords)]\n",
    "review"
   ]
  },
  {
   "cell_type": "code",
   "execution_count": 22,
   "id": "3e7195ba-f1a9-43c7-bce3-7132f44a2a3c",
   "metadata": {},
   "outputs": [],
   "source": [
    "from nltk.stem.porter import PorterStemmer"
   ]
  },
  {
   "cell_type": "code",
   "execution_count": 23,
   "id": "539ca3e5-925b-4613-8510-3af9d9721095",
   "metadata": {},
   "outputs": [],
   "source": [
    "ps = PorterStemmer()"
   ]
  },
  {
   "cell_type": "code",
   "execution_count": 24,
   "id": "eb311405-2ab9-4070-954a-b406805ad6fb",
   "metadata": {},
   "outputs": [],
   "source": [
    "review = [ps.stem(word) for word in review]"
   ]
  },
  {
   "cell_type": "code",
   "execution_count": 25,
   "id": "35eebfc7-fbf1-4a53-afe2-0e69429d3108",
   "metadata": {},
   "outputs": [
    {
     "data": {
      "text/plain": [
       "'crust not good'"
      ]
     },
     "execution_count": 25,
     "metadata": {},
     "output_type": "execute_result"
    }
   ],
   "source": [
    "review = \" \".join(review)\n",
    "review"
   ]
  },
  {
   "cell_type": "code",
   "execution_count": 26,
   "id": "a35a59de-6950-4e01-9cfc-346f8a1686f0",
   "metadata": {},
   "outputs": [],
   "source": [
    "import re\n",
    "custom_stopwords = {'don', \"don't\", 'ain', 'aren', \"aren't\", 'couldn', \"couldn't\",\n",
    "                    'didn', \"didn't\", 'doesn', \"doesn't\", 'hadn', \"hadn't\", 'hasn', \"hasn't\",\n",
    "                    'haven', \"haven't\", 'isn', \"isn't\", 'ma', 'mightn', \"mightn't\", 'mustn', \"mustn't\",\n",
    "                    'needn', \"needn't\", 'shan', \"shan't\", 'no', 'nor', 'not', 'shouldn', \"shouldn't\",\n",
    "                    'wasn', \"wasn't\", 'weren', \"weren't\", 'won', \"won't\", 'wouldn', \"wouldn't\"}\n",
    "\n",
    "corpus =[]\n",
    "ps =PorterStemmer()\n",
    "stop_words = set(stopwords.words(\"english\")) - custom_stopwords\n",
    "\n",
    "for i in range(len(data)):\n",
    "    review = re.sub('[^a-zA-Z]',' ',data['Review'][i])\n",
    "    review = review.lower()\n",
    "    review = review.split()\n",
    "    review = [ps.stem(word) for word in review if word not in stop_words]\n",
    "    review = \" \".join(review)\n",
    "    corpus.append(review)"
   ]
  },
  {
   "cell_type": "code",
   "execution_count": 27,
   "id": "fe79efff-8825-45d5-9072-bfde0dd9a2c1",
   "metadata": {},
   "outputs": [
    {
     "data": {
      "text/html": [
       "<div>\n",
       "<style scoped>\n",
       "    .dataframe tbody tr th:only-of-type {\n",
       "        vertical-align: middle;\n",
       "    }\n",
       "\n",
       "    .dataframe tbody tr th {\n",
       "        vertical-align: top;\n",
       "    }\n",
       "\n",
       "    .dataframe thead th {\n",
       "        text-align: right;\n",
       "    }\n",
       "</style>\n",
       "<table border=\"1\" class=\"dataframe\">\n",
       "  <thead>\n",
       "    <tr style=\"text-align: right;\">\n",
       "      <th></th>\n",
       "      <th>Review</th>\n",
       "      <th>Liked</th>\n",
       "      <th>char_count</th>\n",
       "      <th>word_count</th>\n",
       "      <th>sent_count</th>\n",
       "      <th>processed_text</th>\n",
       "    </tr>\n",
       "  </thead>\n",
       "  <tbody>\n",
       "    <tr>\n",
       "      <th>0</th>\n",
       "      <td>Wow... Loved this place.</td>\n",
       "      <td>1</td>\n",
       "      <td>24</td>\n",
       "      <td>4</td>\n",
       "      <td>2</td>\n",
       "      <td>wow love place</td>\n",
       "    </tr>\n",
       "    <tr>\n",
       "      <th>1</th>\n",
       "      <td>Crust is not good.</td>\n",
       "      <td>0</td>\n",
       "      <td>18</td>\n",
       "      <td>4</td>\n",
       "      <td>1</td>\n",
       "      <td>crust not good</td>\n",
       "    </tr>\n",
       "    <tr>\n",
       "      <th>2</th>\n",
       "      <td>Not tasty and the texture was just nasty.</td>\n",
       "      <td>0</td>\n",
       "      <td>41</td>\n",
       "      <td>8</td>\n",
       "      <td>1</td>\n",
       "      <td>not tasti textur nasti</td>\n",
       "    </tr>\n",
       "    <tr>\n",
       "      <th>3</th>\n",
       "      <td>Stopped by during the late May bank holiday of...</td>\n",
       "      <td>1</td>\n",
       "      <td>87</td>\n",
       "      <td>15</td>\n",
       "      <td>1</td>\n",
       "      <td>stop late may bank holiday rick steve recommen...</td>\n",
       "    </tr>\n",
       "    <tr>\n",
       "      <th>4</th>\n",
       "      <td>The selection on the menu was great and so wer...</td>\n",
       "      <td>1</td>\n",
       "      <td>59</td>\n",
       "      <td>12</td>\n",
       "      <td>1</td>\n",
       "      <td>select menu great price</td>\n",
       "    </tr>\n",
       "  </tbody>\n",
       "</table>\n",
       "</div>"
      ],
      "text/plain": [
       "                                              Review  Liked  char_count  \\\n",
       "0                           Wow... Loved this place.      1          24   \n",
       "1                                 Crust is not good.      0          18   \n",
       "2          Not tasty and the texture was just nasty.      0          41   \n",
       "3  Stopped by during the late May bank holiday of...      1          87   \n",
       "4  The selection on the menu was great and so wer...      1          59   \n",
       "\n",
       "   word_count  sent_count                                     processed_text  \n",
       "0           4           2                                     wow love place  \n",
       "1           4           1                                     crust not good  \n",
       "2           8           1                             not tasti textur nasti  \n",
       "3          15           1  stop late may bank holiday rick steve recommen...  \n",
       "4          12           1                            select menu great price  "
      ]
     },
     "execution_count": 27,
     "metadata": {},
     "output_type": "execute_result"
    }
   ],
   "source": [
    "data['processed_text']=corpus\n",
    "data.head()"
   ]
  },
  {
   "cell_type": "code",
   "execution_count": 28,
   "id": "c7379a7d-b064-4147-b3ab-7efb54c053a4",
   "metadata": {},
   "outputs": [],
   "source": [
    "from wordcloud import WordCloud"
   ]
  },
  {
   "cell_type": "code",
   "execution_count": 29,
   "id": "9e71088d-b31d-42c0-8041-055f13c939f1",
   "metadata": {},
   "outputs": [],
   "source": [
    "wc = WordCloud(width=500,height=500,min_font_size=8,background_color=\"white\")"
   ]
  },
  {
   "cell_type": "code",
   "execution_count": 30,
   "id": "05cb69e2-680a-48e7-9a82-7520326d277e",
   "metadata": {},
   "outputs": [
    {
     "data": {
      "text/plain": [
       "'C:/Windows/Fonts/YourFont.ttf'"
      ]
     },
     "execution_count": 30,
     "metadata": {},
     "output_type": "execute_result"
    }
   ],
   "source": [
    "font_path = \"C:/Windows/Fonts/YourFont.ttf\"\n",
    "font_path\n"
   ]
  },
  {
   "cell_type": "code",
   "execution_count": 31,
   "id": "a6dd68d1-2209-4335-bef5-de08ba1b0102",
   "metadata": {},
   "outputs": [
    {
     "name": "stdout",
     "output_type": "stream",
     "text": [
      "Requirement already satisfied: pip in c:\\users\\dammy\\anaconda3\\lib\\site-packages (23.3.1)Note: you may need to restart the kernel to use updated packages.\n"
     ]
    },
    {
     "name": "stderr",
     "output_type": "stream",
     "text": [
      "DEPRECATION: pyodbc 4.0.0-unsupported has a non-standard version number. pip 24.0 will enforce this behaviour change. A possible replacement is to upgrade to a newer version of pyodbc or contact the author to suggest that they release a version with a conforming version number. Discussion can be found at https://github.com/pypa/pip/issues/12063\n"
     ]
    },
    {
     "name": "stdout",
     "output_type": "stream",
     "text": [
      "\n",
      "Collecting pip\n",
      "  Downloading pip-24.0-py3-none-any.whl.metadata (3.6 kB)\n",
      "Downloading pip-24.0-py3-none-any.whl (2.1 MB)\n",
      "   ---------------------------------------- 2.1/2.1 MB 2.6 MB/s eta 0:00:00\n",
      "Installing collected packages: pip\n",
      "  Attempting uninstall: pip\n",
      "    Found existing installation: pip 23.3.1\n",
      "    Uninstalling pip-23.3.1:\n",
      "      Successfully uninstalled pip-23.3.1\n",
      "Successfully installed pip-24.0\n"
     ]
    }
   ],
   "source": [
    "pip install --upgrade pip"
   ]
  },
  {
   "cell_type": "code",
   "execution_count": 32,
   "id": "1c78d4bc-c33d-4605-bbe3-ef24e2a5c4bc",
   "metadata": {},
   "outputs": [
    {
     "name": "stdout",
     "output_type": "stream",
     "text": [
      "Requirement already satisfied: Pillow in c:\\users\\dammy\\anaconda3\\lib\\site-packages (10.2.0)\n",
      "Note: you may need to restart the kernel to use updated packages.\n"
     ]
    },
    {
     "name": "stderr",
     "output_type": "stream",
     "text": [
      "DEPRECATION: pyodbc 4.0.0-unsupported has a non-standard version number. pip 24.1 will enforce this behaviour change. A possible replacement is to upgrade to a newer version of pyodbc or contact the author to suggest that they release a version with a conforming version number. Discussion can be found at https://github.com/pypa/pip/issues/12063\n"
     ]
    }
   ],
   "source": [
    "pip install --upgrade Pillow"
   ]
  },
  {
   "cell_type": "code",
   "execution_count": 33,
   "id": "5ea93a0c-d86c-412a-a633-b4ace0e38aa2",
   "metadata": {},
   "outputs": [],
   "source": [
    "wc = WordCloud(width=500,height=500,min_font_size=8,background_color=\"white\")"
   ]
  },
  {
   "cell_type": "code",
   "execution_count": 34,
   "id": "a2685c1f-764d-48e8-a0e9-4e64a0e96513",
   "metadata": {},
   "outputs": [
    {
     "data": {
      "text/plain": [
       "<matplotlib.image.AxesImage at 0x1aecbb04520>"
      ]
     },
     "execution_count": 34,
     "metadata": {},
     "output_type": "execute_result"
    },
    {
     "data": {
      "image/png": "[encoded data removed]",
      "text/plain": [
       "<Figure size 432x288 with 1 Axes>"
      ]
     },
     "metadata": {
      "needs_background": "light"
     },
     "output_type": "display_data"
    }
   ],
   "source": [
    "pos = wc.generate(data[data['Liked']==1]['processed_text'].str.cat(sep=\" \"))\n",
    "plt.imshow(pos)"
   ]
  },
  {
   "cell_type": "code",
   "execution_count": 35,
   "id": "4e6c2c7c-df2c-4f51-a147-d1ca7103bb6f",
   "metadata": {},
   "outputs": [],
   "source": [
    "negative = wc.generate(data[data['Liked']==0]['processed_text'].str.cat(sep=\" \"))"
   ]
  },
  {
   "cell_type": "code",
   "execution_count": 36,
   "id": "b54d5f20-d649-4604-9159-3670563032c3",
   "metadata": {},
   "outputs": [
    {
     "data": {
      "text/plain": [
       "<matplotlib.image.AxesImage at 0x1aecbbb5c70>"
      ]
     },
     "execution_count": 36,
     "metadata": {},
     "output_type": "execute_result"
    },
    {
     "data": {
      "image/png": "[encoded data removed]",
      "text/plain": [
       "<Figure size 432x288 with 1 Axes>"
      ]
     },
     "metadata": {
      "needs_background": "light"
     },
     "output_type": "display_data"
    }
   ],
   "source": [
    "plt.imshow(negative)"
   ]
  },
  {
   "cell_type": "code",
   "execution_count": 37,
   "id": "f69153c0-5956-4692-84ff-79f50141a43c",
   "metadata": {},
   "outputs": [
    {
     "data": {
      "text/html": [
       "<div>\n",
       "<style scoped>\n",
       "    .dataframe tbody tr th:only-of-type {\n",
       "        vertical-align: middle;\n",
       "    }\n",
       "\n",
       "    .dataframe tbody tr th {\n",
       "        vertical-align: top;\n",
       "    }\n",
       "\n",
       "    .dataframe thead th {\n",
       "        text-align: right;\n",
       "    }\n",
       "</style>\n",
       "<table border=\"1\" class=\"dataframe\">\n",
       "  <thead>\n",
       "    <tr style=\"text-align: right;\">\n",
       "      <th></th>\n",
       "      <th>Review</th>\n",
       "      <th>Liked</th>\n",
       "      <th>char_count</th>\n",
       "      <th>word_count</th>\n",
       "      <th>sent_count</th>\n",
       "      <th>processed_text</th>\n",
       "    </tr>\n",
       "  </thead>\n",
       "  <tbody>\n",
       "    <tr>\n",
       "      <th>0</th>\n",
       "      <td>Wow... Loved this place.</td>\n",
       "      <td>1</td>\n",
       "      <td>24</td>\n",
       "      <td>4</td>\n",
       "      <td>2</td>\n",
       "      <td>wow love place</td>\n",
       "    </tr>\n",
       "    <tr>\n",
       "      <th>1</th>\n",
       "      <td>Crust is not good.</td>\n",
       "      <td>0</td>\n",
       "      <td>18</td>\n",
       "      <td>4</td>\n",
       "      <td>1</td>\n",
       "      <td>crust not good</td>\n",
       "    </tr>\n",
       "    <tr>\n",
       "      <th>2</th>\n",
       "      <td>Not tasty and the texture was just nasty.</td>\n",
       "      <td>0</td>\n",
       "      <td>41</td>\n",
       "      <td>8</td>\n",
       "      <td>1</td>\n",
       "      <td>not tasti textur nasti</td>\n",
       "    </tr>\n",
       "    <tr>\n",
       "      <th>3</th>\n",
       "      <td>Stopped by during the late May bank holiday of...</td>\n",
       "      <td>1</td>\n",
       "      <td>87</td>\n",
       "      <td>15</td>\n",
       "      <td>1</td>\n",
       "      <td>stop late may bank holiday rick steve recommen...</td>\n",
       "    </tr>\n",
       "    <tr>\n",
       "      <th>4</th>\n",
       "      <td>The selection on the menu was great and so wer...</td>\n",
       "      <td>1</td>\n",
       "      <td>59</td>\n",
       "      <td>12</td>\n",
       "      <td>1</td>\n",
       "      <td>select menu great price</td>\n",
       "    </tr>\n",
       "  </tbody>\n",
       "</table>\n",
       "</div>"
      ],
      "text/plain": [
       "                                              Review  Liked  char_count  \\\n",
       "0                           Wow... Loved this place.      1          24   \n",
       "1                                 Crust is not good.      0          18   \n",
       "2          Not tasty and the texture was just nasty.      0          41   \n",
       "3  Stopped by during the late May bank holiday of...      1          87   \n",
       "4  The selection on the menu was great and so wer...      1          59   \n",
       "\n",
       "   word_count  sent_count                                     processed_text  \n",
       "0           4           2                                     wow love place  \n",
       "1           4           1                                     crust not good  \n",
       "2           8           1                             not tasti textur nasti  \n",
       "3          15           1  stop late may bank holiday rick steve recommen...  \n",
       "4          12           1                            select menu great price  "
      ]
     },
     "execution_count": 37,
     "metadata": {},
     "output_type": "execute_result"
    }
   ],
   "source": [
    "data.head()"
   ]
  },
  {
   "cell_type": "code",
   "execution_count": 38,
   "id": "ddbf08f8-d128-4599-8a43-538744ec5967",
   "metadata": {},
   "outputs": [],
   "source": [
    "from sklearn.feature_extraction.text import CountVectorizer"
   ]
  },
  {
   "cell_type": "code",
   "execution_count": 39,
   "id": "9832c854-c0fd-40a0-812a-18d29f7c0370",
   "metadata": {},
   "outputs": [],
   "source": [
    "cv = CountVectorizer(max_features=1500)"
   ]
  },
  {
   "cell_type": "code",
   "execution_count": 40,
   "id": "b5e937df-ad54-4e5d-baa5-bbeda74ac615",
   "metadata": {},
   "outputs": [],
   "source": [
    "X = cv.fit_transform(corpus).toarray()"
   ]
  },
  {
   "cell_type": "code",
   "execution_count": 41,
   "id": "97617c9a-6331-4b86-a92f-45a3df4784b6",
   "metadata": {},
   "outputs": [
    {
     "data": {
      "text/plain": [
       "array([[0, 0, 0, ..., 0, 0, 0],\n",
       "       [0, 0, 0, ..., 0, 0, 0],\n",
       "       [0, 0, 0, ..., 0, 0, 0],\n",
       "       ...,\n",
       "       [0, 0, 0, ..., 0, 0, 0],\n",
       "       [0, 0, 0, ..., 0, 0, 0],\n",
       "       [0, 0, 0, ..., 0, 0, 0]], dtype=int64)"
      ]
     },
     "execution_count": 41,
     "metadata": {},
     "output_type": "execute_result"
    }
   ],
   "source": [
    "X"
   ]
  },
  {
   "cell_type": "code",
   "execution_count": 42,
   "id": "90b95da3-0439-4d1e-b8ae-056deb88a1ee",
   "metadata": {},
   "outputs": [
    {
     "data": {
      "text/plain": [
       "(1000, 1500)"
      ]
     },
     "execution_count": 42,
     "metadata": {},
     "output_type": "execute_result"
    }
   ],
   "source": [
    "X.shape"
   ]
  },
  {
   "cell_type": "code",
   "execution_count": 43,
   "id": "a9ba9ec0-3877-4d77-ad3b-01a2a092e63b",
   "metadata": {},
   "outputs": [],
   "source": [
    "import joblib"
   ]
  },
  {
   "cell_type": "code",
   "execution_count": 44,
   "id": "d2135067-7823-4603-aaef-0009a80e4d92",
   "metadata": {},
   "outputs": [
    {
     "data": {
      "text/plain": [
       "['count_v_res']"
      ]
     },
     "execution_count": 44,
     "metadata": {},
     "output_type": "execute_result"
    }
   ],
   "source": [
    "joblib.dump(cv,\"count_v_res\")"
   ]
  },
  {
   "cell_type": "code",
   "execution_count": 45,
   "id": "699020d9-ba43-40f7-91b4-2ae8ad9948fd",
   "metadata": {},
   "outputs": [],
   "source": [
    "y = data['Liked']"
   ]
  },
  {
   "cell_type": "code",
   "execution_count": 46,
   "id": "8bfb247d-1865-4826-ac13-d6036f930b2e",
   "metadata": {},
   "outputs": [
    {
     "data": {
      "text/plain": [
       "0      1\n",
       "1      0\n",
       "2      0\n",
       "3      1\n",
       "4      1\n",
       "      ..\n",
       "995    0\n",
       "996    0\n",
       "997    0\n",
       "998    0\n",
       "999    0\n",
       "Name: Liked, Length: 1000, dtype: int64"
      ]
     },
     "execution_count": 46,
     "metadata": {},
     "output_type": "execute_result"
    }
   ],
   "source": [
    "y"
   ]
  },
  {
   "cell_type": "code",
   "execution_count": 47,
   "id": "5ab90dbb-b0ba-4ad5-9607-aeec056c4524",
   "metadata": {},
   "outputs": [],
   "source": [
    "from sklearn.model_selection import train_test_split"
   ]
  },
  {
   "cell_type": "code",
   "execution_count": 48,
   "id": "1879f1af-64ac-4a3a-845c-0bdc54969aec",
   "metadata": {},
   "outputs": [],
   "source": [
    "X_train,X_test,y_train,y_test= train_test_split(X,y,test_size=0.20,random_state=42)"
   ]
  },
  {
   "cell_type": "code",
   "execution_count": 49,
   "id": "12af0775-d306-46a8-9505-d12a2c5f077b",
   "metadata": {},
   "outputs": [],
   "source": [
    "from sklearn.naive_bayes import GaussianNB"
   ]
  },
  {
   "cell_type": "code",
   "execution_count": 50,
   "id": "b61a90be-557f-4ac4-baa9-250bddadc72f",
   "metadata": {},
   "outputs": [],
   "source": [
    "nb =GaussianNB()\n",
    "nb.fit(X_train,y_train)\n",
    "y_pred = nb.predict(X_test)"
   ]
  },
  {
   "cell_type": "code",
   "execution_count": 51,
   "id": "a55bb046-a1d4-4fad-ab9f-c51d5052e7f6",
   "metadata": {},
   "outputs": [],
   "source": [
    "from sklearn.metrics import accuracy_score"
   ]
  },
  {
   "cell_type": "code",
   "execution_count": 52,
   "id": "d27c37b6-30f0-42c0-8ddb-6b2ddf3103c4",
   "metadata": {},
   "outputs": [
    {
     "data": {
      "text/plain": [
       "0.68"
      ]
     },
     "execution_count": 52,
     "metadata": {},
     "output_type": "execute_result"
    }
   ],
   "source": [
    "accuracy_score(y_test,y_pred)"
   ]
  },
  {
   "cell_type": "code",
   "execution_count": 53,
   "id": "88c70454-ac29-494e-b43f-8b3d87d58193",
   "metadata": {},
   "outputs": [
    {
     "data": {
      "text/plain": [
       "0.79"
      ]
     },
     "execution_count": 53,
     "metadata": {},
     "output_type": "execute_result"
    }
   ],
   "source": [
    "from sklearn.linear_model import LogisticRegression\n",
    "lr =LogisticRegression()\n",
    "lr.fit(X_train,y_train)\n",
    "y_pred=lr.predict(X_test)\n",
    "accuracy_score(y_test,y_pred)"
   ]
  },
  {
   "cell_type": "code",
   "execution_count": 54,
   "id": "cbf2c996-2006-4dce-8218-8095b94f941c",
   "metadata": {},
   "outputs": [
    {
     "data": {
      "text/plain": [
       "0.795"
      ]
     },
     "execution_count": 54,
     "metadata": {},
     "output_type": "execute_result"
    }
   ],
   "source": [
    "from sklearn.ensemble import RandomForestClassifier\n",
    "rf =RandomForestClassifier()\n",
    "rf.fit(X_train,y_train)\n",
    "y_pred = rf.predict(X_test)\n",
    "accuracy_score(y_test,y_pred)"
   ]
  },
  {
   "cell_type": "code",
   "execution_count": 55,
   "id": "853dfd1c-fc01-43ca-b0d8-37c980f40443",
   "metadata": {},
   "outputs": [
    {
     "data": {
      "text/plain": [
       "['Restaurant_review_model']"
      ]
     },
     "execution_count": 55,
     "metadata": {},
     "output_type": "execute_result"
    }
   ],
   "source": [
    "joblib.dump(rf,'Restaurant_review_model')"
   ]
  },
  {
   "cell_type": "code",
   "execution_count": null,
   "id": "4c5492c3-6f1f-4ef4-8be0-833d0226a482",
   "metadata": {},
   "outputs": [],
   "source": [
    "import tkinter as tk\n",
    "from tkinter import ttk\n",
    "from nltk.corpus import stopwords\n",
    "from nltk.stem import PorterStemmer\n",
    "from sklearn.feature_extraction.text import CountVectorizer\n",
    "import joblib\n",
    "import re\n",
    "\n",
    "class RestaurantReviewApp:\n",
    "    def __init__(self, master):\n",
    "        self.master = master\n",
    "        master.title(\"Restaurant Review Classification App\")\n",
    "        master.geometry(\"400x300\")  # Set a custom size for the window\n",
    "\n",
    "        # Load your pre-trained Random Forest model and CountVectorizer\n",
    "        # Replace 'your_model.pkl' and 'your_vectorizer.pkl' with the actual filenames\n",
    "        self.model = joblib.load('Restaurant_review_model')\n",
    "        self.vectorizer = joblib.load('count_v_res')\n",
    "\n",
    "        # Create and set up widgets\n",
    "        title_font = ('Helvetica', 16, 'bold')  # Larger font for the title\n",
    "        self.label = ttk.Label(master, text=\"Enter your restaurant review:\", font=title_font)\n",
    "        self.label.pack(pady=10)\n",
    "\n",
    "        self.text_entry = tk.Text(master, height=5, width=40)\n",
    "        self.text_entry.pack(pady=10)\n",
    "\n",
    "        # Increase button size and change color on press\n",
    "        self.classify_button = ttk.Button(master, text=\"Classify\", command=self.classify_review, style='Custom.TButton')\n",
    "        self.classify_button.pack(pady=10)\n",
    "\n",
    "        self.result_label = ttk.Label(master, text=\"\")\n",
    "        self.result_label.pack(pady=10)\n",
    "\n",
    "        # Style configuration for the button\n",
    "        self.style = ttk.Style()\n",
    "        self.style.configure('Custom.TButton', font=('Helvetica', 12), width=15, foreground='black', background='#4CAF50', padding=(10, 5))\n",
    "        self.style.map('Custom.TButton', foreground=[('pressed', 'black'), ('active', 'white')], background=[('pressed', '!disabled', '#45a049'), ('active', '#4CAF50')])\n",
    "\n",
    "    def preprocess_text(self, text):\n",
    "        custom_stopwords = {'don', \"don't\", 'ain', 'aren', \"aren't\", 'couldn', \"couldn't\",\n",
    "                            'didn', \"didn't\", 'doesn', \"doesn't\", 'hadn', \"hadn't\", 'hasn', \"hasn't\",\n",
    "                            'haven', \"haven't\", 'isn', \"isn't\", 'ma', 'mightn', \"mightn't\", 'mustn', \"mustn't\",\n",
    "                            'needn', \"needn't\", 'shan', \"shan't\", 'no', 'nor', 'not', 'shouldn', \"shouldn't\",\n",
    "                            'wasn', \"wasn't\", 'weren', \"weren't\", 'won', \"won't\", 'wouldn', \"wouldn't\"}\n",
    "        ps = PorterStemmer()\n",
    "        stop_words = set(stopwords.words(\"english\")) - custom_stopwords\n",
    "\n",
    "        review = re.sub('[^a-zA-Z]', ' ', text)\n",
    "        review = review.lower()\n",
    "        review = review.split()\n",
    "        review = [ps.stem(word) for word in review if word not in stop_words]\n",
    "        review = \" \".join(review)\n",
    "\n",
    "        return review\n",
    "\n",
    "    def classify_review(self):\n",
    "        user_input = self.text_entry.get(\"1.0\", \"end-1c\")\n",
    "        if user_input:\n",
    "            processed_input = self.preprocess_text(user_input)\n",
    "            # Transform the processed_input using the CountVectorizer\n",
    "            processed_input_vectorized = self.vectorizer.transform([processed_input])\n",
    "            prediction = self.model.predict(processed_input_vectorized)[0]\n",
    "            sentiment = \"Positive\" if prediction == 1 else \"Negative\"\n",
    "            self.result_label.config(text=f\"Predicted Sentiment: {sentiment}\")\n",
    "        else:\n",
    "            self.result_label.config(text=\"Please enter a review before clicking 'Classify'.\")\n",
    "\n",
    "if __name__ == \"__main__\":\n",
    "    root = tk.Tk()\n",
    "    app = RestaurantReviewApp(root)\n",
    "    root.mainloop()        "
   ]
  },
  {
   "cell_type": "code",
   "execution_count": null,
   "id": "e980d1f3-7500-46d2-b4f7-3aaaf299217d",
   "metadata": {},
   "outputs": [],
   "source": []
  }
 ],
 "metadata": {
  "kernelspec": {
   "display_name": "Python 3",
   "language": "python",
   "name": "python3"
  },
  "language_info": {
   "codemirror_mode": {
    "name": "ipython",
    "version": 3
   },
   "file_extension": ".py",
   "mimetype": "text/x-python",
   "name": "python",
   "nbconvert_exporter": "python",
   "pygments_lexer": "ipython3",
   "version": "3.8.8"
  }
 },
 "nbformat": 4,
 "nbformat_minor": 5
}
